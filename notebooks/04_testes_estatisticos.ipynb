{
 "cells": [
  {
   "cell_type": "markdown",
   "id": "0eabd562",
   "metadata": {},
   "source": [
    "# Testes Estatísticos em Séries Dessazonalizadas\n",
    "\n",
    "Este notebook aplica **testes estatísticos** às séries temporais de **mortalidade** e **morbidade cardiovascular** já dessazonalizadas.  \n",
    "O objetivo é identificar **mudanças significativas** nos padrões **antes e depois da pandemia de COVID-19**.\n",
    "\n",
    "## Etapas:\n",
    "\n",
    "- Carregamento dos dados dessazonalizados;\n",
    "- Aplicação de testes estatísticos para comparação dos períodos;\n",
    "- Armazenamento dos resultados para análises posteriores."
   ]
  },
  {
   "cell_type": "code",
   "execution_count": 1,
   "id": "96df5d7b",
   "metadata": {},
   "outputs": [],
   "source": [
    "# Imports básicos\n",
    "import pandas as pd\n",
    "from pathlib import Path\n"
   ]
  },
  {
   "cell_type": "markdown",
   "id": "68802832",
   "metadata": {},
   "source": [
    "## Importação de Funções do Projeto\n",
    "\n",
    "Importação dos módulos desenvolvidos no projeto:\n",
    "\n",
    "- `carregamento.py` – leitura dos dados tratados;\n",
    "- `stl.py` – dessazonalização com STL;\n",
    "- `estatisticas.py` – aplicação dos testes estatísticos.\n"
   ]
  },
  {
   "cell_type": "code",
   "execution_count": 2,
   "id": "f149542e",
   "metadata": {},
   "outputs": [],
   "source": [
    "# Importa funções personalizadas do projeto\n",
    "from scripts.carregamento import carregar_dados_tratados\n",
    "from scripts.dessazonalizacao import dessazonalizar_em_lote\n",
    "from scripts.testes_estatisticos import aplicar_testes_estatisticos"
   ]
  },
  {
   "cell_type": "markdown",
   "id": "cf94b6d0",
   "metadata": {},
   "source": [
    "## Carregamento e Dessazonalização dos Dados\n",
    "\n",
    "- Os dados previamente tratados são carregados e organizados;\n",
    "- Cada série de mortalidade e morbidade é submetida à dessazonalização com STL;\n",
    "- Isso garante que os testes avaliem apenas variações associadas a tendências ou instabilidades, sem interferência de padrões sazonais."
   ]
  },
  {
   "cell_type": "code",
   "execution_count": 3,
   "id": "0a09fe5e",
   "metadata": {},
   "outputs": [],
   "source": [
    "# Carrega os dados tratados\n",
    "dados = carregar_dados_tratados()\n",
    "\n",
    "# Aplica dessazonalização nas séries de mortalidade e morbidade\n",
    "dados_dessaz = {\n",
    "    \"mortalidade\": dessazonalizar_em_lote(dados[\"mortalidade\"]),\n",
    "    \"morbidade\": dessazonalizar_em_lote(dados[\"morbidade\"])\n",
    "}\n"
   ]
  },
  {
   "cell_type": "markdown",
   "id": "b043b5a8",
   "metadata": {},
   "source": [
    "## Aplicação dos Testes Estatísticos\n",
    "\n",
    "Para cada evento cardiovascular (óbito ou internação), são aplicados testes estatísticos comparando o comportamento da série nos períodos:\n",
    "\n",
    "- Pré-pandemia  \n",
    "- Durante/pós-pandemia\n",
    "\n",
    "Os testes aplicados incluem:\n",
    "\n",
    "- **Teste de Mann-Whitney** – avalia se houve mudança significativa na mediana dos valores entre os períodos, permitindo concluir se há evidência de aumento (ou redução) nos eventos analisados, mesmo em distribuições não normais;\n",
    "\n",
    "- **Teste de Levene** – verifica se houve alteração na variabilidade (dispersão) dos dados, indicando instabilidade no sistema de saúde;\n",
    "\n",
    "- **Rank Biserial com Intervalo de Confiança (IC)** – mede o tamanho do efeito entre os períodos, ou seja, o quão consistentemente os valores do pós-pandemia são maiores (ou menores) que os do pré. Além disso, o intervalo de confiança permite avaliar a **robustez** do efeito observado: se o IC exclui o zero, isso indica que a diferença entre os períodos é consistente e provavelmente não ocorreu ao acaso.\n",
    "\n",
    "Os resultados são armazenados em listas para posterior análise consolidada.\n"
   ]
  },
  {
   "cell_type": "code",
   "execution_count": 4,
   "id": "c2226fe1",
   "metadata": {},
   "outputs": [],
   "source": [
    "# Testes estatísticos para mortalidade dessazonalizada\n",
    "resultados_mortalidade_dessaz = []\n",
    "for evento, df in dados_dessaz[\"mortalidade\"].items():\n",
    "    res = aplicar_testes_estatisticos(df, coluna_valor=\"dessazonalizado\")\n",
    "    res[\"evento\"] = evento\n",
    "    resultados_mortalidade_dessaz.append(res)\n",
    "\n",
    "# Testes estatísticos para morbidade dessazonalizada\n",
    "resultados_morbidade_dessaz = []\n",
    "for evento, df in dados_dessaz[\"morbidade\"].items():\n",
    "    res = aplicar_testes_estatisticos(df, coluna_valor=\"dessazonalizado\")\n",
    "    res[\"evento\"] = evento\n",
    "    resultados_morbidade_dessaz.append(res)"
   ]
  },
  {
   "cell_type": "markdown",
   "id": "a7849c26",
   "metadata": {},
   "source": [
    "## Organização e Salvamento dos Resultados\n",
    "\n",
    "- Os resultados dos testes estatísticos são organizados em um `DataFrame`;\n",
    "- Esse `DataFrame` é exportado em formato `.csv`;\n",
    "- O arquivo final é salvo no diretório `/resultados`, onde poderá ser consultado ou utilizado em análises e visualizações futuras.\n"
   ]
  },
  {
   "cell_type": "code",
   "execution_count": 5,
   "id": "07f543b9",
   "metadata": {},
   "outputs": [
    {
     "data": {
      "application/vnd.microsoft.datawrangler.viewer.v0+json": {
       "columns": [
        {
         "name": "index",
         "rawType": "int64",
         "type": "integer"
        },
        {
         "name": "mannwhitney_p",
         "rawType": "float64",
         "type": "float"
        },
        {
         "name": "rank_biserial_r",
         "rawType": "float64",
         "type": "float"
        },
        {
         "name": "rank_biserial_ic",
         "rawType": "object",
         "type": "unknown"
        },
        {
         "name": "levene_p",
         "rawType": "float64",
         "type": "float"
        },
        {
         "name": "media_pre",
         "rawType": "float64",
         "type": "float"
        },
        {
         "name": "media_pos",
         "rawType": "float64",
         "type": "float"
        },
        {
         "name": "cv_pre",
         "rawType": "float64",
         "type": "float"
        },
        {
         "name": "cv_pos",
         "rawType": "float64",
         "type": "float"
        },
        {
         "name": "evento",
         "rawType": "object",
         "type": "string"
        }
       ],
       "conversionMethod": "pd.DataFrame",
       "ref": "c133826e-889c-4fb0-89dd-ea893644cec9",
       "rows": [
        [
         "0",
         "0.9997825434921471",
         "-0.5104166666666666",
         "(-0.720529513888889, -0.28815104166666666)",
         "0.13332184142017442",
         "905.1909094896497",
         "972.9172871761153",
         "0.05954035152234624",
         "0.08583255274754323",
         "obitos_avc"
        ],
        [
         "1",
         "0.9105038933884496",
         "-0.19444444444444445",
         "(-0.44969618055555555, 0.06948784722222219)",
         "0.010407411956343171",
         "7805.927072123382",
         "7860.845305777894",
         "0.02671813291891744",
         "0.05337273288008537",
         "obitos_infarto"
        ],
        [
         "2",
         "0.999999998954975",
         "-0.8697916666666666",
         "(-0.9774739583333334, -0.7256944444444444)",
         "0.0001294291045187892",
         "2209.241409335094",
         "2547.8112668995973",
         "0.02195805891974847",
         "0.08885721170798389",
         "obitos_insuf_cardiaca"
        ],
        [
         "3",
         "0.9999965615998647",
         "-0.6527777777777778",
         "(-0.8663628472222222, -0.40620659722222224)",
         "0.44721200635078695",
         "9.289352830413506",
         "12.412020392109705",
         "0.44388181963373563",
         "0.21249820640457492",
         "obitos_miocardite"
        ],
        [
         "4",
         "0.9999816362286107",
         "-0.5989583333333334",
         "(-0.8385416666666666, -0.3350694444444444)",
         "0.6318462411735233",
         "126.67920537326921",
         "146.9475755688947",
         "0.17220318113680913",
         "0.11981824105445686",
         "obitos_trombose"
        ]
       ],
       "shape": {
        "columns": 9,
        "rows": 5
       }
      },
      "text/html": [
       "<div>\n",
       "<style scoped>\n",
       "    .dataframe tbody tr th:only-of-type {\n",
       "        vertical-align: middle;\n",
       "    }\n",
       "\n",
       "    .dataframe tbody tr th {\n",
       "        vertical-align: top;\n",
       "    }\n",
       "\n",
       "    .dataframe thead th {\n",
       "        text-align: right;\n",
       "    }\n",
       "</style>\n",
       "<table border=\"1\" class=\"dataframe\">\n",
       "  <thead>\n",
       "    <tr style=\"text-align: right;\">\n",
       "      <th></th>\n",
       "      <th>mannwhitney_p</th>\n",
       "      <th>rank_biserial_r</th>\n",
       "      <th>rank_biserial_ic</th>\n",
       "      <th>levene_p</th>\n",
       "      <th>media_pre</th>\n",
       "      <th>media_pos</th>\n",
       "      <th>cv_pre</th>\n",
       "      <th>cv_pos</th>\n",
       "      <th>evento</th>\n",
       "    </tr>\n",
       "  </thead>\n",
       "  <tbody>\n",
       "    <tr>\n",
       "      <th>0</th>\n",
       "      <td>0.999783</td>\n",
       "      <td>-0.510417</td>\n",
       "      <td>(-0.720529513888889, -0.28815104166666666)</td>\n",
       "      <td>0.133322</td>\n",
       "      <td>905.190909</td>\n",
       "      <td>972.917287</td>\n",
       "      <td>0.059540</td>\n",
       "      <td>0.085833</td>\n",
       "      <td>obitos_avc</td>\n",
       "    </tr>\n",
       "    <tr>\n",
       "      <th>1</th>\n",
       "      <td>0.910504</td>\n",
       "      <td>-0.194444</td>\n",
       "      <td>(-0.44969618055555555, 0.06948784722222219)</td>\n",
       "      <td>0.010407</td>\n",
       "      <td>7805.927072</td>\n",
       "      <td>7860.845306</td>\n",
       "      <td>0.026718</td>\n",
       "      <td>0.053373</td>\n",
       "      <td>obitos_infarto</td>\n",
       "    </tr>\n",
       "    <tr>\n",
       "      <th>2</th>\n",
       "      <td>1.000000</td>\n",
       "      <td>-0.869792</td>\n",
       "      <td>(-0.9774739583333334, -0.7256944444444444)</td>\n",
       "      <td>0.000129</td>\n",
       "      <td>2209.241409</td>\n",
       "      <td>2547.811267</td>\n",
       "      <td>0.021958</td>\n",
       "      <td>0.088857</td>\n",
       "      <td>obitos_insuf_cardiaca</td>\n",
       "    </tr>\n",
       "    <tr>\n",
       "      <th>3</th>\n",
       "      <td>0.999997</td>\n",
       "      <td>-0.652778</td>\n",
       "      <td>(-0.8663628472222222, -0.40620659722222224)</td>\n",
       "      <td>0.447212</td>\n",
       "      <td>9.289353</td>\n",
       "      <td>12.412020</td>\n",
       "      <td>0.443882</td>\n",
       "      <td>0.212498</td>\n",
       "      <td>obitos_miocardite</td>\n",
       "    </tr>\n",
       "    <tr>\n",
       "      <th>4</th>\n",
       "      <td>0.999982</td>\n",
       "      <td>-0.598958</td>\n",
       "      <td>(-0.8385416666666666, -0.3350694444444444)</td>\n",
       "      <td>0.631846</td>\n",
       "      <td>126.679205</td>\n",
       "      <td>146.947576</td>\n",
       "      <td>0.172203</td>\n",
       "      <td>0.119818</td>\n",
       "      <td>obitos_trombose</td>\n",
       "    </tr>\n",
       "  </tbody>\n",
       "</table>\n",
       "</div>"
      ],
      "text/plain": [
       "   mannwhitney_p  rank_biserial_r  \\\n",
       "0       0.999783        -0.510417   \n",
       "1       0.910504        -0.194444   \n",
       "2       1.000000        -0.869792   \n",
       "3       0.999997        -0.652778   \n",
       "4       0.999982        -0.598958   \n",
       "\n",
       "                              rank_biserial_ic  levene_p    media_pre  \\\n",
       "0   (-0.720529513888889, -0.28815104166666666)  0.133322   905.190909   \n",
       "1  (-0.44969618055555555, 0.06948784722222219)  0.010407  7805.927072   \n",
       "2   (-0.9774739583333334, -0.7256944444444444)  0.000129  2209.241409   \n",
       "3  (-0.8663628472222222, -0.40620659722222224)  0.447212     9.289353   \n",
       "4   (-0.8385416666666666, -0.3350694444444444)  0.631846   126.679205   \n",
       "\n",
       "     media_pos    cv_pre    cv_pos                 evento  \n",
       "0   972.917287  0.059540  0.085833             obitos_avc  \n",
       "1  7860.845306  0.026718  0.053373         obitos_infarto  \n",
       "2  2547.811267  0.021958  0.088857  obitos_insuf_cardiaca  \n",
       "3    12.412020  0.443882  0.212498      obitos_miocardite  \n",
       "4   146.947576  0.172203  0.119818        obitos_trombose  "
      ]
     },
     "execution_count": 5,
     "metadata": {},
     "output_type": "execute_result"
    }
   ],
   "source": [
    "# Converte os resultados para DataFrame\n",
    "df_mortalidade_dessaz = pd.DataFrame(resultados_mortalidade_dessaz)\n",
    "df_morbidade_dessaz = pd.DataFrame(resultados_morbidade_dessaz)\n",
    "\n",
    "# Salva resultados em /resultados\n",
    "pasta_resultados = Path(\"..\") / \"resultados\"\n",
    "pasta_resultados.mkdir(exist_ok=True)\n",
    "\n",
    "df_mortalidade_dessaz.to_csv(pasta_resultados / \"testes_mortalidade_dessazonalizado.csv\", index=False)\n",
    "df_morbidade_dessaz.to_csv(pasta_resultados / \"testes_morbidade_dessazonalizado.csv\", index=False)\n",
    "\n",
    "# head para verificar os dados\n",
    "df_mortalidade_dessaz.head()\n"
   ]
  },
  {
   "cell_type": "markdown",
   "id": "ca6c8ffe",
   "metadata": {},
   "source": [
    "### Tabela-resumo: Significância estatística e intervalo de confiança do rank biserial\n",
    "\n",
    "| Evento                  | p (Mann-Whitney) | Significância | IC 95% (r_rb)                         | IC exclui 0 |\n",
    "|------------------------|------------------|---------------|--------------------------------------|-------------|\n",
    "| Óbitos por AVC         | 0.9998           | ✗             | (−0.72, −0.29)                        | ✓           |\n",
    "| Óbitos por Infarto     | 0.9105           | ✗             | (−0.45, +0.07)                        | ✗           |\n",
    "| Insuficiência Cardíaca | 1.0000           | ✗             | (−0.98, −0.73)                        | ✓           |\n",
    "| Miocardite             | 1.0000           | ✗             | (−0.87, −0.41)                        | ✓           |\n",
    "| Trombose               | 0.9999           | ✗             | (−0.84, −0.34)                        | ✓           |\n"
   ]
  },
  {
   "cell_type": "markdown",
   "id": "f8483a9b",
   "metadata": {},
   "source": [
    "### **Comentários dos resultados:**\n",
    "\n",
    "Apesar de a maioria dos testes de Mann-Whitney não terem apresentado significância estatística (p > 0.05), a análise dos efeitos práticos — medidos pelo **rank biserial com intervalo de confiança (IC)** — revela **sinais consistentes de agravamento** nos eventos cardiovasculares após o início da pandemia.\n",
    "\n",
    "Nos 5 eventos de mortalidade analisados até aqui:\n",
    "\n",
    "- **4 apresentaram intervalos de confiança que excluem o zero**, indicando efeitos práticos robustos mesmo sem significância clássica.\n",
    "- Apenas **1 evento (infarto)** apresentou intervalo que inclui o zero, tornando o efeito observado incerto.\n",
    "- Os efeitos observados nesses 4 eventos foram todos **negativos e de magnitude grande**, sugerindo aumento sistemático nos valores pós-pandemia.\n",
    "\n",
    "O *rank biserial* indica **a direção e a força da diferença** entre os períodos, enquanto o IC fornece **a confiabilidade** dessa diferença. Quando ambos apontam para um efeito consistente, mesmo sem p < 0.05, temos **evidência prática relevante**.\n",
    "\n",
    "Esses achados reforçam a importância de se utilizar medidas de efeito com IC — e não apenas testes de hipótese — especialmente em contextos com variabilidade elevada ou eventos raros, como observado em miocardite.\n"
   ]
  }
 ],
 "metadata": {
  "kernelspec": {
   "display_name": "Python 3",
   "language": "python",
   "name": "python3"
  },
  "language_info": {
   "codemirror_mode": {
    "name": "ipython",
    "version": 3
   },
   "file_extension": ".py",
   "mimetype": "text/x-python",
   "name": "python",
   "nbconvert_exporter": "python",
   "pygments_lexer": "ipython3",
   "version": "3.12.4"
  }
 },
 "nbformat": 4,
 "nbformat_minor": 5
}
