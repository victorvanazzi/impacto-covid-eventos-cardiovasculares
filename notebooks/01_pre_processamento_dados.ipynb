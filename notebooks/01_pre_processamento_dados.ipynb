{
 "cells": [
  {
   "cell_type": "markdown",
   "metadata": {},
   "source": [
    "# Pré-processamento dos Dados\n",
    "\n",
    "Este notebook realiza o tratamento inicial dos dados de **internações e óbitos por causas cardiovasculares no Brasil**, utilizando informações do sistema **TabNet/DATASUS**.\n",
    "\n",
    "## Problemas típicos nos arquivos originais:\n",
    "\n",
    "- Cabeçalhos e rodapés não padronizados;\n",
    "- Linhas com totais anuais que precisam ser removidas;\n",
    "- Datas em formato de texto, como `\"Janeiro/2020\"`;\n",
    "- Presença do símbolo `\"-\"` para representar ausência de casos.\n",
    "\n",
    "Essas etapas garantem a padronização necessária para as análises futuras.\n"
   ]
  },
  {
   "cell_type": "code",
   "execution_count": 6,
   "metadata": {},
   "outputs": [],
   "source": [
    "# Importa bibliotecas principais e adiciona caminho para os scripts\n",
    "import os\n",
    "import pandas as pd\n",
    "import locale\n",
    "\n",
    "from scripts.preprocessamento import carregar_csv, tratar_tabela_datasus\n"
   ]
  },
  {
   "cell_type": "markdown",
   "metadata": {},
   "source": [
    "## Configuração de Locale\n",
    "\n",
    "Alguns campos de data usam nomes de meses por extenso em português. Para garantir a correta conversão para o tipo `datetime`, é necessário ajustar o **locale** do sistema.\n"
   ]
  },
  {
   "cell_type": "code",
   "execution_count": 7,
   "metadata": {},
   "outputs": [],
   "source": [
    "# Define locale para datas com mês por extenso em português (ex: Janeiro/2020)\n",
    "try:\n",
    "    locale.setlocale(locale.LC_TIME, \"pt_BR.UTF-8\")  # Linux/macOS\n",
    "except Exception as e:\n",
    "    try:\n",
    "        locale.setlocale(locale.LC_TIME, \"Portuguese_Brazil.1252\")  # Windows\n",
    "    except Exception as e2:\n",
    "        pass"
   ]
  },
  {
   "cell_type": "markdown",
   "metadata": {},
   "source": [
    "## Leitura dos Arquivos CSV\n",
    "\n",
    "Os arquivos estão divididos em duas categorias:\n",
    "\n",
    "- **Morbidade:** internações hospitalares\n",
    "- **Mortalidade:** óbitos registrados\n",
    "\n",
    "Cada entrada no dicionário indica:\n",
    "\n",
    "- O caminho para o arquivo;\n",
    "- Os parâmetros para leitura (`skiprows`, `skipfooter`), que removem cabeçalhos extras e totais não relevantes para a série temporal."
   ]
  },
  {
   "cell_type": "code",
   "execution_count": 8,
   "metadata": {},
   "outputs": [],
   "source": [
    "# Dicionário para carregar os dados com os parâmetros corretos\n",
    "arquivos_csv = {\n",
    "    # Morbidade\n",
    "    \"internacoes_trombose\": {\n",
    "        \"caminho\": \"../dados_brutos/morbidade/internacoes_trombose_2018-2025.csv\",\n",
    "        \"skiprows\": 4,\n",
    "        \"skipfooter\": 5\n",
    "    },\n",
    "    \"internacoes_arritmias_cardiacas\": {\n",
    "        \"caminho\": \"../dados_brutos/morbidade/internacoes_arritmias_cardiacas_2018-2025.csv\",\n",
    "        \"skiprows\": 4,\n",
    "        \"skipfooter\": 5\n",
    "    },\n",
    "    \"internacoes_avc\": {\n",
    "        \"caminho\": \"../dados_brutos/morbidade/internacoes_avc_2018-2025.csv\",\n",
    "        \"skiprows\": 4,\n",
    "        \"skipfooter\": 5\n",
    "    },\n",
    "    \"internacoes_infarto\": {\n",
    "        \"caminho\": \"../dados_brutos/morbidade/internacoes_infarto_2018-2025.csv\",\n",
    "        \"skiprows\": 4,\n",
    "        \"skipfooter\": 5\n",
    "    },\n",
    "\n",
    "    # Mortalidade\n",
    "    \"obitos_avc\": {\n",
    "        \"caminho\": \"../dados_brutos/mortalidade/obitos_avc_2018-2023.csv\",\n",
    "        \"skiprows\": 4,\n",
    "        \"skipfooter\": 5\n",
    "    },\n",
    "    \"obitos_infarto\": {\n",
    "        \"caminho\": \"../dados_brutos/mortalidade/obitos_infarto_2018-2023.csv\",\n",
    "        \"skiprows\": 4,\n",
    "        \"skipfooter\": 5\n",
    "    },\n",
    "    \"obitos_insuf_cardiaca\": {\n",
    "        \"caminho\": \"../dados_brutos/mortalidade/obitos_insuf_cardiaca_2018-2023.csv\",\n",
    "        \"skiprows\": 4,\n",
    "        \"skipfooter\": 5\n",
    "    },\n",
    "    \"obitos_miocardite\": {\n",
    "        \"caminho\": \"../dados_brutos/mortalidade/obitos_miocardite_2018-2023.csv\",\n",
    "        \"skiprows\": 4,\n",
    "        \"skipfooter\": 5\n",
    "    },\n",
    "    \"obitos_trombose\": {\n",
    "        \"caminho\": \"../dados_brutos/mortalidade/obitos_trombose_2018-2023.csv\",\n",
    "        \"skiprows\": 4,\n",
    "        \"skipfooter\": 5\n",
    "    }\n",
    "}"
   ]
  },
  {
   "cell_type": "markdown",
   "metadata": {},
   "source": [
    "## Importação e Tratamento dos Dados\n",
    "\n",
    "Cada arquivo é carregado usando a função `carregar_csv`, que trata:\n",
    "\n",
    "- Encoding e separador;\n",
    "- Remoção de rodapés e linhas inválidas.\n",
    "\n",
    "Em seguida, a função `tratar_tabela_datasus` aplica as seguintes transformações:\n",
    "\n",
    "- Renomeia a coluna de datas;\n",
    "- Converte meses em português para o tipo `datetime`;\n",
    "- Remove linhas de totais;\n",
    "- Converte os valores para `float`;\n",
    "- Substitui `\"-\"` por `0.0`, conforme legenda do TabNet.\n",
    "\n",
    "O resultado final é armazenado no dicionário `tabelas`.\n"
   ]
  },
  {
   "cell_type": "code",
   "execution_count": 9,
   "metadata": {},
   "outputs": [],
   "source": [
    "# Carrega e trata todas as tabelas definidas no dicionário\n",
    "tabelas = {}\n",
    "\n",
    "for nome, info in arquivos_csv.items():\n",
    "    df = carregar_csv(\n",
    "        caminho=info[\"caminho\"],\n",
    "        skiprows=info[\"skiprows\"],\n",
    "        skipfooter=info[\"skipfooter\"]\n",
    "    )\n",
    "    if df is not None:\n",
    "        df_tratado = tratar_tabela_datasus(df)\n",
    "        tabelas[nome] = df_tratado\n"
   ]
  },
  {
   "cell_type": "markdown",
   "metadata": {},
   "source": [
    "## Salvamento dos Arquivos Tratados\n",
    "\n",
    "As tabelas processadas são salvas em diretórios distintos:\n",
    "\n",
    "- **morbidade/**\n",
    "- **mortalidade/**\n",
    "\n",
    "Formato dos arquivos:\n",
    "\n",
    "- `.csv`\n",
    "- Encoding: `utf-8-sig`\n",
    "- Separador: `;`\n"
   ]
  },
  {
   "cell_type": "code",
   "execution_count": 10,
   "metadata": {},
   "outputs": [],
   "source": [
    "# Salva os arquivos de mortalidade tratados no diretório apropriado\n",
    "tabelas_mortalidade = [\n",
    "    \"obitos_avc\", \n",
    "    \"obitos_infarto\",\n",
    "    \"obitos_insuf_cardiaca\",\n",
    "    \"obitos_miocardite\", \n",
    "    \"obitos_trombose\"\n",
    "]\n",
    "\n",
    "os.makedirs(\"../dados_tratados/mortalidade\", exist_ok=True)\n",
    "\n",
    "for nome in tabelas_mortalidade:\n",
    "    df = tabelas[nome]\n",
    "    caminho_saida = f\"../dados_tratados/mortalidade/{nome}_tratado.csv\"\n",
    "    df.to_csv(caminho_saida, index=False, encoding=\"utf-8-sig\", sep=\";\")"
   ]
  },
  {
   "cell_type": "code",
   "execution_count": 11,
   "metadata": {},
   "outputs": [],
   "source": [
    "# Salva os arquivos de morbidade tratados no diretório apropriado\n",
    "tabelas_morbidade = [\n",
    "    \"internacoes_trombose\",\n",
    "    \"internacoes_arritmias_cardiacas\",\n",
    "    \"internacoes_avc\",\n",
    "    \"internacoes_infarto\"\n",
    "]\n",
    "\n",
    "os.makedirs(\"../dados_tratados/morbidade\", exist_ok=True)\n",
    "\n",
    "for nome in tabelas_morbidade:\n",
    "    df = tabelas[nome]\n",
    "    caminho_saida = f\"../dados_tratados/morbidade/{nome}_tratado.csv\"\n",
    "    df.to_csv(caminho_saida, index=False, encoding=\"utf-8-sig\", sep=\";\")"
   ]
  },
  {
   "cell_type": "markdown",
   "metadata": {},
   "source": [
    "## Scripts Utilizados\n",
    "\n",
    "**Arquivo:** `scripts/preprocessamento.py`\n",
    "\n",
    "### `carregar_csv(...)`\n",
    "\n",
    "- Lê arquivos CSV com:\n",
    "  - Encoding `latin1`\n",
    "  - Separador `;`\n",
    "  - Linhas ignoradas no início e no fim\n",
    "  - Remoção de rodapés e linhas inválidas\n",
    "\n",
    "### `tratar_tabela_datasus(df)`\n",
    "\n",
    "- Renomeia a coluna de datas\n",
    "- Converte textos para `datetime`\n",
    "- Remove linhas de totais\n",
    "- Converte colunas numéricas para `float`\n",
    "- Substitui `\"-\"` por `0.0`\n"
   ]
  }
 ],
 "metadata": {
  "kernelspec": {
   "display_name": "Python 3",
   "language": "python",
   "name": "python3"
  },
  "language_info": {
   "codemirror_mode": {
    "name": "ipython",
    "version": 3
   },
   "file_extension": ".py",
   "mimetype": "text/x-python",
   "name": "python",
   "nbconvert_exporter": "python",
   "pygments_lexer": "ipython3",
   "version": "3.12.4"
  }
 },
 "nbformat": 4,
 "nbformat_minor": 2
}
